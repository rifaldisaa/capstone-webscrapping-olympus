{
 "cells": [
  {
   "cell_type": "markdown",
   "metadata": {},
   "source": [
    "# Capstone Webscrapping using BeautifulSoup\n",
    "\n",
    "This notebook contains guidances & tasks on the data processing for the application\n",
    "\n",
    "## background\n",
    "\n",
    "Dalam capstone project kali ini, saya akan memplot pergerakan kurs USD terhadap waktu harian.\n",
    "\n",
    "## Requesting the Data and Creating a BeautifulSoup\n",
    "\n",
    "Let's begin with requesting the web from the site with `get` method."
   ]
  },
  {
   "cell_type": "code",
   "execution_count": 203,
   "metadata": {
    "ExecuteTime": {
     "end_time": "2020-01-13T05:12:23.275508Z",
     "start_time": "2020-01-13T05:12:20.009898Z"
    }
   },
   "outputs": [],
   "source": [
    "import requests\n",
    "\n",
    "url_get = requests.get('https://www.exchange-rates.org/history/IDR/USD/T')"
   ]
  },
  {
   "cell_type": "markdown",
   "metadata": {},
   "source": [
    "To visualize what exactly you get from the `request.get`, we can use .content so ee what we exactly get, in here i slice it so it won't make our screen full of the html we get from the page. You can delete the slicing if you want to see what we fully get."
   ]
  },
  {
   "cell_type": "code",
   "execution_count": 204,
   "metadata": {
    "ExecuteTime": {
     "end_time": "2020-01-13T05:12:23.290648Z",
     "start_time": "2020-01-13T05:12:23.277650Z"
    }
   },
   "outputs": [
    {
     "data": {
      "text/plain": [
       "b'\\n<!DOCTYPE html>\\r\\n<!--[if lt IE 9]>\\r\\n    <html class=\"no-js ie8 oldie\" lang=\\'en\\' xml:lang=\\'en\\'>\\r\\n<![endif]-->\\r\\n<!--[if gt IE 8]><!--> <html class=\"no-js\" lang=\\'en\\' xml:lang=\\'en\\'> <!--<![endif]-->\\r\\n<head><title>Indonesian Rupiah Exchange Rate - US Dollar - Historical Exchange Rates</title>\\n<meta http-equiv=\"X-UA-Compatible\" content=\"IE=edge\">\\n<meta content=\"C#\" name=\"CODE_LANGUAGE\" />\\n<meta content=\"JavaScript\" name=\"vs_defaultClientScript\" />\\n<meta content=\"http://schemas.microsoft.com/intellis'"
      ]
     },
     "execution_count": 204,
     "metadata": {},
     "output_type": "execute_result"
    }
   ],
   "source": [
    "url_get.content[1:500]"
   ]
  },
  {
   "cell_type": "markdown",
   "metadata": {},
   "source": [
    "As we can see we get a very unstructured and complex html, which actually contains the codes needed to show the webpages on your web browser. But we as human still confused what and where we can use that piece of code, so here where we use the beautifulsoup. Beautiful soup class will result a beautifulsoup object. Beautiful Soup transforms a complex HTML document into a complex tree of Python objects. \n",
    "\n",
    "Let's make Beautiful soup object and feel free to explore the object here."
   ]
  },
  {
   "cell_type": "code",
   "execution_count": 205,
   "metadata": {
    "ExecuteTime": {
     "end_time": "2020-01-13T05:12:23.808122Z",
     "start_time": "2020-01-13T05:12:23.292610Z"
    }
   },
   "outputs": [],
   "source": [
    "from bs4 import BeautifulSoup \n",
    "\n",
    "soup = BeautifulSoup(url_get.content,\"html.parser\")"
   ]
  },
  {
   "cell_type": "markdown",
   "metadata": {},
   "source": [
    "## Finding the right key to scrap the data & Extracting the right information"
   ]
  },
  {
   "cell_type": "markdown",
   "metadata": {},
   "source": [
    "membuat data tabel."
   ]
  },
  {
   "cell_type": "code",
   "execution_count": 206,
   "metadata": {
    "ExecuteTime": {
     "end_time": "2020-01-13T05:12:23.878904Z",
     "start_time": "2020-01-13T05:12:23.854974Z"
    }
   },
   "outputs": [
    {
     "name": "stdout",
     "output_type": "stream",
     "text": [
      "tbody>\n",
      " <tr>\n",
      "  <td>\n",
      "   7/9/2021\n",
      "  </td>\n",
      "  <td>\n",
      "   Friday\n",
      "  </td>\n",
      "  <td>\n",
      "   <a href=\"/Rate/USD/IDR/7-9-2021\">\n",
      "    14,499.31330\n",
      "   </a>\n",
      "   IDR\n",
      "  </td>\n",
      "  <td class=\"text-narrow-screen-hidden\">\n",
      "   <a href=\"/Rate/USD/IDR/7-9-2021\">\n",
      "    USD IDR rate for 7/9/2021\n",
      "   </a>\n",
      "  </td>\n",
      " </tr>\n",
      " <tr>\n",
      "  <td>\n",
      "   7/8/2021\n",
      "  </td>\n",
      "  <td>\n",
      "   Thursday\n",
      "  </td>\n",
      "  <td>\n",
      "   <a href=\"/Rate/USD/IDR/7-8-2021\">\n",
      "    14,515.87714\n",
      "   </a>\n",
      "   IDR\n",
      "  </td>\n",
      "  <td class=\"text-narrow-screen-hidden\">\n",
      "   <a href=\"/Rate/USD/IDR/7-8-2021\n"
     ]
    }
   ],
   "source": [
    "table = soup.find('tbody')\n",
    "print(table.prettify()[1:500])"
   ]
  },
  {
   "cell_type": "markdown",
   "metadata": {},
   "source": [
    "membuat data row dan mencari panjang row."
   ]
  },
  {
   "cell_type": "code",
   "execution_count": 207,
   "metadata": {},
   "outputs": [
    {
     "data": {
      "text/plain": [
       "130"
      ]
     },
     "execution_count": 207,
     "metadata": {},
     "output_type": "execute_result"
    }
   ],
   "source": [
    "row = soup.find_all('tr', attrs={'class':''})\n",
    "row_length = len(row)\n",
    "row_length"
   ]
  },
  {
   "cell_type": "markdown",
   "metadata": {},
   "source": [
    "melakukan proses scrapping atau memplot data"
   ]
  },
  {
   "cell_type": "code",
   "execution_count": 214,
   "metadata": {},
   "outputs": [
    {
     "data": {
      "text/plain": [
       "[('7/9/2021', '14,499.31330'),\n",
       " ('7/8/2021', '14,515.87714'),\n",
       " ('7/7/2021', '14,503.93654'),\n",
       " ('7/6/2021', '14,469.58258'),\n",
       " ('7/5/2021', '14,493.33968'),\n",
       " ('7/2/2021', '14,497.65100'),\n",
       " ('7/1/2021', '13,270.37815'),\n",
       " ('6/30/2021', '14,491.89811'),\n",
       " ('6/29/2021', '13,215.84052'),\n",
       " ('6/28/2021', '14,439.22236'),\n",
       " ('6/25/2021', '14,426.82283'),\n",
       " ('6/24/2021', '14,436.21247'),\n",
       " ('6/23/2021', '14,440.32729'),\n",
       " ('6/22/2021', '14,396.08712'),\n",
       " ('6/21/2021', '14,426.42481'),\n",
       " ('6/18/2021', '14,440.13691'),\n",
       " ('6/17/2021', '14,383.75138'),\n",
       " ('6/16/2021', '14,376.12040'),\n",
       " ('6/15/2021', '14,205.14512'),\n",
       " ('6/14/2021', '14,205.68458'),\n",
       " ('6/11/2021', '14,241.97728'),\n",
       " ('6/10/2021', '14,262.89225'),\n",
       " ('6/9/2021', '14,258.61758'),\n",
       " ('6/8/2021', '14,256.29978'),\n",
       " ('6/7/2021', '14,222.58206'),\n",
       " ('6/4/2021', '14,227.49966'),\n",
       " ('6/3/2021', '14,353.54834'),\n",
       " ('6/2/2021', '14,276.29774'),\n",
       " ('6/1/2021', '14,274.83728'),\n",
       " ('5/31/2021', '14,238.06947'),\n",
       " ('5/28/2021', '14,283.54665'),\n",
       " ('5/27/2021', '14,326.24811'),\n",
       " ('5/26/2021', '14,326.06920'),\n",
       " ('5/25/2021', '14,310.90309'),\n",
       " ('5/24/2021', '14,352.31470'),\n",
       " ('5/21/2021', '14,401.13572'),\n",
       " ('5/20/2021', '14,362.81181'),\n",
       " ('5/19/2021', '14,270.34468'),\n",
       " ('5/18/2021', '14,263.79544'),\n",
       " ('5/17/2021', '14,113.45630'),\n",
       " ('5/14/2021', '14,122.81112'),\n",
       " ('5/13/2021', '14,185.45666'),\n",
       " ('5/12/2021', '14,198.91195'),\n",
       " ('5/11/2021', '14,197.76931'),\n",
       " ('5/10/2021', '14,214.65659'),\n",
       " ('5/7/2021', '14,278.55213'),\n",
       " ('5/6/2021', '14,302.00704'),\n",
       " ('5/5/2021', '14,422.43566'),\n",
       " ('5/4/2021', '14,424.14155'),\n",
       " ('5/3/2021', '14,436.81882'),\n",
       " ('4/30/2021', '14,444.45616'),\n",
       " ('4/29/2021', '14,487.67389'),\n",
       " ('4/28/2021', '14,430.69637'),\n",
       " ('4/27/2021', '14,472.65266'),\n",
       " ('4/26/2021', '14,509.39683'),\n",
       " ('4/23/2021', '14,496.38365'),\n",
       " ('4/22/2021', '14,512.83503'),\n",
       " ('4/21/2021', '14,502.26090'),\n",
       " ('4/20/2021', '14,502.50189'),\n",
       " ('4/19/2021', '14,546.21674'),\n",
       " ('4/16/2021', '14,555.47086'),\n",
       " ('4/15/2021', '14,606.52845'),\n",
       " ('4/14/2021', '14,558.27832'),\n",
       " ('4/13/2021', '14,591.89923'),\n",
       " ('4/12/2021', '14,342.37375'),\n",
       " ('4/9/2021', '14,545.59599'),\n",
       " ('4/8/2021', '14,470.71219'),\n",
       " ('4/7/2021', '14,522.66559'),\n",
       " ('4/6/2021', '14,426.44421'),\n",
       " ('4/5/2021', '14,431.06530'),\n",
       " ('4/2/2021', '14,525.77118'),\n",
       " ('4/1/2021', '14,471.67828'),\n",
       " ('3/31/2021', '14,531.83272'),\n",
       " ('3/30/2021', '14,471.20821'),\n",
       " ('3/29/2021', '14,418.46962'),\n",
       " ('3/26/2021', '14,348.53269'),\n",
       " ('3/25/2021', '14,430.27484'),\n",
       " ('3/24/2021', '14,440.74305'),\n",
       " ('3/23/2021', '14,414.95309'),\n",
       " ('3/22/2021', '14,378.72677'),\n",
       " ('3/19/2021', '14,409.66972'),\n",
       " ('3/18/2021', '14,423.29934'),\n",
       " ('3/17/2021', '14,346.28612'),\n",
       " ('3/16/2021', '14,407.76927'),\n",
       " ('3/15/2021', '14,423.68150'),\n",
       " ('3/12/2021', '14,393.57497'),\n",
       " ('3/11/2021', '14,319.87571'),\n",
       " ('3/10/2021', '14,387.89293'),\n",
       " ('3/9/2021', '14,396.25662'),\n",
       " ('3/8/2021', '14,374.33106'),\n",
       " ('3/5/2021', '14,292.17893'),\n",
       " ('3/4/2021', '14,261.85426'),\n",
       " ('3/3/2021', '14,257.29443'),\n",
       " ('3/2/2021', '14,256.28041'),\n",
       " ('3/1/2021', '14,248.60576'),\n",
       " ('2/26/2021', '14,300.27815'),\n",
       " ('2/25/2021', '14,139.73096'),\n",
       " ('2/24/2021', '14,083.03673'),\n",
       " ('2/23/2021', '14,092.64503'),\n",
       " ('2/22/2021', '14,118.07274'),\n",
       " ('2/19/2021', '14,066.79375'),\n",
       " ('2/18/2021', '14,013.51318'),\n",
       " ('2/17/2021', '14,015.16095'),\n",
       " ('2/16/2021', '13,935.96629'),\n",
       " ('2/15/2021', '13,918.18725'),\n",
       " ('2/12/2021', '13,988.54710'),\n",
       " ('2/11/2021', '13,982.27900'),\n",
       " ('2/10/2021', '13,994.09212'),\n",
       " ('2/9/2021', '13,920.52018'),\n",
       " ('2/8/2021', '14,007.25257'),\n",
       " ('2/5/2021', '14,008.99630'),\n",
       " ('2/4/2021', '14,020.87878'),\n",
       " ('2/3/2021', '13,997.60682'),\n",
       " ('2/2/2021', '14,004.60175'),\n",
       " ('2/1/2021', '14,025.27450'),\n",
       " ('1/29/2021', '14,027.32457'),\n",
       " ('1/28/2021', '14,048.06146'),\n",
       " ('1/27/2021', '14,048.72649'),\n",
       " ('1/26/2021', '14,062.91108'),\n",
       " ('1/25/2021', '14,021.11609'),\n",
       " ('1/22/2021', '14,025.60268'),\n",
       " ('1/21/2021', '13,964.91920'),\n",
       " ('1/20/2021', '14,021.43046'),\n",
       " ('1/19/2021', '14,063.60877'),\n",
       " ('1/18/2021', '14,055.43768'),\n",
       " ('1/15/2021', '14,153.46654'),\n",
       " ('1/14/2021', '14,070.58746'),\n",
       " ('1/13/2021', '14,125.90174'),\n",
       " ('1/12/2021', '14,074.81444'),\n",
       " ('1/11/2021', '14,137.24151')]"
      ]
     },
     "execution_count": 214,
     "metadata": {},
     "output_type": "execute_result"
    }
   ],
   "source": [
    "temp = [] #init\n",
    "\n",
    "for i in range(0, row_length):\n",
    "    \n",
    "    # get tanggal\n",
    "    tanggal = row[i].find_all('td', attrs={'class' : ''})[0].text\n",
    "    \n",
    "    # get harga_harian\n",
    "    harga_harian = row[i].find_all('a', attrs={'class' : ''})[0].text\n",
    "    harga_harian = harga_harian.strip() #to remove excess white space\n",
    "    \n",
    "    \n",
    "    temp.append((tanggal,harga_harian)) \n",
    "    \n",
    "temp"
   ]
  },
  {
   "cell_type": "markdown",
   "metadata": {},
   "source": [
    "## Creating data frame & Data wrangling"
   ]
  },
  {
   "cell_type": "markdown",
   "metadata": {},
   "source": [
    "Put the array into dataframe"
   ]
  },
  {
   "cell_type": "code",
   "execution_count": 293,
   "metadata": {
    "ExecuteTime": {
     "end_time": "2020-01-13T05:12:41.517372Z",
     "start_time": "2020-01-13T05:12:29.130015Z"
    }
   },
   "outputs": [
    {
     "data": {
      "text/html": [
       "<div>\n",
       "<style scoped>\n",
       "    .dataframe tbody tr th:only-of-type {\n",
       "        vertical-align: middle;\n",
       "    }\n",
       "\n",
       "    .dataframe tbody tr th {\n",
       "        vertical-align: top;\n",
       "    }\n",
       "\n",
       "    .dataframe thead th {\n",
       "        text-align: right;\n",
       "    }\n",
       "</style>\n",
       "<table border=\"1\" class=\"dataframe\">\n",
       "  <thead>\n",
       "    <tr style=\"text-align: right;\">\n",
       "      <th></th>\n",
       "      <th>tanggal</th>\n",
       "      <th>harga_harian</th>\n",
       "    </tr>\n",
       "  </thead>\n",
       "  <tbody>\n",
       "    <tr>\n",
       "      <th>0</th>\n",
       "      <td>7/9/2021</td>\n",
       "      <td>14,499.31330</td>\n",
       "    </tr>\n",
       "    <tr>\n",
       "      <th>1</th>\n",
       "      <td>7/8/2021</td>\n",
       "      <td>14,515.87714</td>\n",
       "    </tr>\n",
       "    <tr>\n",
       "      <th>2</th>\n",
       "      <td>7/7/2021</td>\n",
       "      <td>14,503.93654</td>\n",
       "    </tr>\n",
       "    <tr>\n",
       "      <th>3</th>\n",
       "      <td>7/6/2021</td>\n",
       "      <td>14,469.58258</td>\n",
       "    </tr>\n",
       "    <tr>\n",
       "      <th>4</th>\n",
       "      <td>7/5/2021</td>\n",
       "      <td>14,493.33968</td>\n",
       "    </tr>\n",
       "  </tbody>\n",
       "</table>\n",
       "</div>"
      ],
      "text/plain": [
       "    tanggal  harga_harian\n",
       "0  7/9/2021  14,499.31330\n",
       "1  7/8/2021  14,515.87714\n",
       "2  7/7/2021  14,503.93654\n",
       "3  7/6/2021  14,469.58258\n",
       "4  7/5/2021  14,493.33968"
      ]
     },
     "execution_count": 293,
     "metadata": {},
     "output_type": "execute_result"
    }
   ],
   "source": [
    "import pandas as pd\n",
    "\n",
    "df = pd.DataFrame(temp, columns = ('tanggal','harga_harian'))\n",
    "df.head()"
   ]
  },
  {
   "cell_type": "markdown",
   "metadata": {},
   "source": [
    "mengganti tipe data"
   ]
  },
  {
   "cell_type": "code",
   "execution_count": 294,
   "metadata": {},
   "outputs": [
    {
     "data": {
      "text/html": [
       "<div>\n",
       "<style scoped>\n",
       "    .dataframe tbody tr th:only-of-type {\n",
       "        vertical-align: middle;\n",
       "    }\n",
       "\n",
       "    .dataframe tbody tr th {\n",
       "        vertical-align: top;\n",
       "    }\n",
       "\n",
       "    .dataframe thead th {\n",
       "        text-align: right;\n",
       "    }\n",
       "</style>\n",
       "<table border=\"1\" class=\"dataframe\">\n",
       "  <thead>\n",
       "    <tr style=\"text-align: right;\">\n",
       "      <th></th>\n",
       "      <th>tanggal</th>\n",
       "      <th>harga_harian</th>\n",
       "    </tr>\n",
       "  </thead>\n",
       "  <tbody>\n",
       "    <tr>\n",
       "      <th>0</th>\n",
       "      <td>2021-07-09</td>\n",
       "      <td>14499.31330</td>\n",
       "    </tr>\n",
       "    <tr>\n",
       "      <th>1</th>\n",
       "      <td>2021-07-08</td>\n",
       "      <td>14515.87714</td>\n",
       "    </tr>\n",
       "    <tr>\n",
       "      <th>2</th>\n",
       "      <td>2021-07-07</td>\n",
       "      <td>14503.93654</td>\n",
       "    </tr>\n",
       "    <tr>\n",
       "      <th>3</th>\n",
       "      <td>2021-07-06</td>\n",
       "      <td>14469.58258</td>\n",
       "    </tr>\n",
       "    <tr>\n",
       "      <th>4</th>\n",
       "      <td>2021-07-05</td>\n",
       "      <td>14493.33968</td>\n",
       "    </tr>\n",
       "    <tr>\n",
       "      <th>...</th>\n",
       "      <td>...</td>\n",
       "      <td>...</td>\n",
       "    </tr>\n",
       "    <tr>\n",
       "      <th>125</th>\n",
       "      <td>2021-01-15</td>\n",
       "      <td>14153.46654</td>\n",
       "    </tr>\n",
       "    <tr>\n",
       "      <th>126</th>\n",
       "      <td>2021-01-14</td>\n",
       "      <td>14070.58746</td>\n",
       "    </tr>\n",
       "    <tr>\n",
       "      <th>127</th>\n",
       "      <td>2021-01-13</td>\n",
       "      <td>14125.90174</td>\n",
       "    </tr>\n",
       "    <tr>\n",
       "      <th>128</th>\n",
       "      <td>2021-01-12</td>\n",
       "      <td>14074.81444</td>\n",
       "    </tr>\n",
       "    <tr>\n",
       "      <th>129</th>\n",
       "      <td>2021-01-11</td>\n",
       "      <td>14137.24151</td>\n",
       "    </tr>\n",
       "  </tbody>\n",
       "</table>\n",
       "<p>130 rows × 2 columns</p>\n",
       "</div>"
      ],
      "text/plain": [
       "       tanggal  harga_harian\n",
       "0   2021-07-09   14499.31330\n",
       "1   2021-07-08   14515.87714\n",
       "2   2021-07-07   14503.93654\n",
       "3   2021-07-06   14469.58258\n",
       "4   2021-07-05   14493.33968\n",
       "..         ...           ...\n",
       "125 2021-01-15   14153.46654\n",
       "126 2021-01-14   14070.58746\n",
       "127 2021-01-13   14125.90174\n",
       "128 2021-01-12   14074.81444\n",
       "129 2021-01-11   14137.24151\n",
       "\n",
       "[130 rows x 2 columns]"
      ]
     },
     "execution_count": 294,
     "metadata": {},
     "output_type": "execute_result"
    }
   ],
   "source": [
    "df['harga_harian'] = df['harga_harian'].str.replace(\",\",\"\")\n",
    "df['harga_harian'] = df['harga_harian'].astype('float64')\n",
    "df['tanggal'] = df['tanggal'].astype('datetime64')\n",
    "\n",
    "df"
   ]
  },
  {
   "cell_type": "code",
   "execution_count": 295,
   "metadata": {},
   "outputs": [
    {
     "data": {
      "text/plain": [
       "tanggal         datetime64[ns]\n",
       "harga_harian           float64\n",
       "dtype: object"
      ]
     },
     "execution_count": 295,
     "metadata": {},
     "output_type": "execute_result"
    }
   ],
   "source": [
    "df.dtypes"
   ]
  },
  {
   "cell_type": "markdown",
   "metadata": {},
   "source": [
    "men-set kolom tanggal menjadi index"
   ]
  },
  {
   "cell_type": "code",
   "execution_count": 296,
   "metadata": {},
   "outputs": [],
   "source": [
    "df = df.set_index('tanggal')"
   ]
  },
  {
   "cell_type": "code",
   "execution_count": 300,
   "metadata": {},
   "outputs": [
    {
     "data": {
      "text/html": [
       "<div>\n",
       "<style scoped>\n",
       "    .dataframe tbody tr th:only-of-type {\n",
       "        vertical-align: middle;\n",
       "    }\n",
       "\n",
       "    .dataframe tbody tr th {\n",
       "        vertical-align: top;\n",
       "    }\n",
       "\n",
       "    .dataframe thead th {\n",
       "        text-align: right;\n",
       "    }\n",
       "</style>\n",
       "<table border=\"1\" class=\"dataframe\">\n",
       "  <thead>\n",
       "    <tr style=\"text-align: right;\">\n",
       "      <th></th>\n",
       "      <th>harga_harian</th>\n",
       "    </tr>\n",
       "    <tr>\n",
       "      <th>tanggal</th>\n",
       "      <th></th>\n",
       "    </tr>\n",
       "  </thead>\n",
       "  <tbody>\n",
       "    <tr>\n",
       "      <th>2021-07-09</th>\n",
       "      <td>14499.31330</td>\n",
       "    </tr>\n",
       "    <tr>\n",
       "      <th>2021-07-08</th>\n",
       "      <td>14515.87714</td>\n",
       "    </tr>\n",
       "    <tr>\n",
       "      <th>2021-07-07</th>\n",
       "      <td>14503.93654</td>\n",
       "    </tr>\n",
       "    <tr>\n",
       "      <th>2021-07-06</th>\n",
       "      <td>14469.58258</td>\n",
       "    </tr>\n",
       "    <tr>\n",
       "      <th>2021-07-05</th>\n",
       "      <td>14493.33968</td>\n",
       "    </tr>\n",
       "    <tr>\n",
       "      <th>...</th>\n",
       "      <td>...</td>\n",
       "    </tr>\n",
       "    <tr>\n",
       "      <th>2021-01-15</th>\n",
       "      <td>14153.46654</td>\n",
       "    </tr>\n",
       "    <tr>\n",
       "      <th>2021-01-14</th>\n",
       "      <td>14070.58746</td>\n",
       "    </tr>\n",
       "    <tr>\n",
       "      <th>2021-01-13</th>\n",
       "      <td>14125.90174</td>\n",
       "    </tr>\n",
       "    <tr>\n",
       "      <th>2021-01-12</th>\n",
       "      <td>14074.81444</td>\n",
       "    </tr>\n",
       "    <tr>\n",
       "      <th>2021-01-11</th>\n",
       "      <td>14137.24151</td>\n",
       "    </tr>\n",
       "  </tbody>\n",
       "</table>\n",
       "<p>130 rows × 1 columns</p>\n",
       "</div>"
      ],
      "text/plain": [
       "            harga_harian\n",
       "tanggal                 \n",
       "2021-07-09   14499.31330\n",
       "2021-07-08   14515.87714\n",
       "2021-07-07   14503.93654\n",
       "2021-07-06   14469.58258\n",
       "2021-07-05   14493.33968\n",
       "...                  ...\n",
       "2021-01-15   14153.46654\n",
       "2021-01-14   14070.58746\n",
       "2021-01-13   14125.90174\n",
       "2021-01-12   14074.81444\n",
       "2021-01-11   14137.24151\n",
       "\n",
       "[130 rows x 1 columns]"
      ]
     },
     "execution_count": 300,
     "metadata": {},
     "output_type": "execute_result"
    }
   ],
   "source": [
    "df"
   ]
  },
  {
   "cell_type": "markdown",
   "metadata": {},
   "source": [
    "memplot data frame yang dimiliki untuk mendapatkan kurva pergerakan kurs USD terhadap waktu harian."
   ]
  },
  {
   "cell_type": "code",
   "execution_count": 301,
   "metadata": {},
   "outputs": [
    {
     "data": {
      "text/plain": [
       "<matplotlib.axes._subplots.AxesSubplot at 0x27de216c280>"
      ]
     },
     "execution_count": 301,
     "metadata": {},
     "output_type": "execute_result"
    },
    {
     "data": {
      "image/png": "[encoded data removed]",
      "text/plain": [
       "<Figure size 432x288 with 1 Axes>"
      ]
     },
     "metadata": {
      "needs_background": "light"
     },
     "output_type": "display_data"
    }
   ],
   "source": [
    "df.plot()"
   ]
  },
  {
   "cell_type": "markdown",
   "metadata": {},
   "source": [
    "Saya mengimport data temp menggunakan lib. pandas menjadi df, kemudian menambahkan nama pada masing-masing kolomnya.\n",
    "Setelah itu, merubah tipe data untuk kolom tanggal dari object menjadi datetime64[ns] dan untuk harga_harian dari object menjadi float64.\n",
    "Selanjutnya men-set kolom tanggal sebagai index pada df.\n",
    "Kemudian mem-plot data df yang dimiliki. \n",
    "Akhirnya tabel kurva pun didapat."
   ]
  },
  {
   "cell_type": "markdown",
   "metadata": {},
   "source": [
    "### Implementing your webscrapping to the flask dashboard\n",
    "\n",
    "- Copy paste all of your web scrapping process to the desired position on the `app.py`\n",
    "- Changing the title of the dasboard at `index.html`"
   ]
  },
  {
   "cell_type": "markdown",
   "metadata": {},
   "source": [
    "## Finishing This Notebook with Your Analysis and Conclusion\n",
    "\n",
    "First you can do start with making the data visualisation. "
   ]
  },
  {
   "cell_type": "markdown",
   "metadata": {
    "ExecuteTime": {
     "end_time": "2020-01-13T05:20:56.208237Z",
     "start_time": "2020-01-13T05:20:56.076043Z"
    }
   },
   "source": [
    "kita dapat mengambil data yang dapat diakses secara publik dari internet menggunakan beberapa library yang ada di jupyter notebook. pada kurva didapat fluktuasi kenaikan harga USD dari bulan 2 ke bulan 4, dan fluktuasi penurunan harga dari bulan 4 ke bulan 7. di bulan 7 terjadi 2x penurunan dan kenaikan kurs USD secara significant. \n",
    "kesimpulannya, kita dapat melakukan webscrapping menggunakan beautifulsoup dan library lainnya pada aplikasi Jupyter Notebook untuk mendapatkan data yang kita inginkan di internet, selagi data tersebut dapat diakses secara publik.\n"
   ]
  },
  {
   "cell_type": "markdown",
   "metadata": {},
   "source": [
    "### Extra Challange\n",
    "\n",
    "This will be not included to the scoring. \n",
    "\n",
    "- You can create additional analysis from the data.\n",
    "- Implement it to the dashboard with at `app.py` dan `index.html`."
   ]
  }
 ],
 "metadata": {
  "kernelspec": {
   "display_name": "algoritma_olympus",
   "language": "python",
   "name": "algoritma_olympus"
  },
  "language_info": {
   "codemirror_mode": {
    "name": "ipython",
    "version": 3
   },
   "file_extension": ".py",
   "mimetype": "text/x-python",
   "name": "python",
   "nbconvert_exporter": "python",
   "pygments_lexer": "ipython3",
   "version": "3.8.10"
  }
 },
 "nbformat": 4,
 "nbformat_minor": 2
}
